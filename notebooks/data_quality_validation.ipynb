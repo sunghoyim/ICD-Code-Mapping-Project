{
 "cells": [
  {
   "cell_type": "markdown",
   "id": "5afadc81",
   "metadata": {},
   "source": [
    "# Data Quality Validation\n",
    "\n",
    "This notebook validates the accuracy of medical code mappings by comparing \n",
    "description similarity scores between original and mapped terminology.\n",
    "\n",
    "## Methodology\n",
    "- Text preprocessing (lowercase, strip whitespace)\n",
    "- Similarity scoring using sequence matching\n",
    "- Threshold-based quality assessment (80% threshold)\n",
    "- Overall goodness score calculation"
   ]
  },
  {
   "cell_type": "code",
   "execution_count": null,
   "id": "ba8e42c0",
   "metadata": {},
   "outputs": [],
   "source": [
    "# Compare original description vs. mapped description similarity\n",
    "def calculate_similarity_score(desc1, desc2):\n",
    "    \"\"\"Calculate text similarity for medical code validation\"\"\"\n",
    "    from difflib import SequenceMatcher\n",
    "    return SequenceMatcher(None, desc1, desc2).ratio() * 100"
   ]
  },
  {
   "cell_type": "code",
   "execution_count": null,
   "id": "6ce80c53",
   "metadata": {},
   "outputs": [],
   "source": [
    "# Preprocess text data\n",
    "df['Description'] = df['Description'].str.lower().str.strip()\n",
    "df['DIAGNOSIS_DESCRIPTION'] = df['DIAGNOSIS_DESCRIPTION'].str.lower().str.strip()"
   ]
  },
  {
   "cell_type": "code",
   "execution_count": null,
   "id": "2bdbdd82",
   "metadata": {},
   "outputs": [],
   "source": [
    "# Calculate similarity scores and store in a new column\n",
    "df['Similarity_Score'] = df.apply(lambda row: calculate_similarity_score(row['Description']), axis=1)"
   ]
  },
  {
   "cell_type": "code",
   "execution_count": null,
   "id": "c9e92f42",
   "metadata": {},
   "outputs": [],
   "source": [
    "# Define a threshold for considering a good match\n",
    "threshold = 80"
   ]
  },
  {
   "cell_type": "code",
   "execution_count": null,
   "id": "119dfb04",
   "metadata": {},
   "outputs": [],
   "source": [
    "# Calculate the overall score for the Description column\n",
    "overall_goodness_score = df['Similarity_Score'].sum() / len(df)"
   ]
  },
  {
   "cell_type": "code",
   "execution_count": null,
   "id": "3dc0e473",
   "metadata": {},
   "outputs": [],
   "source": [
    "print(\"Overall Goodness Score:\", overall_goodness_score)"
   ]
  }
 ],
 "metadata": {
  "kernelspec": {
   "display_name": "Python 3 (ipykernel)",
   "language": "python",
   "name": "python3"
  },
  "language_info": {
   "codemirror_mode": {
    "name": "ipython",
    "version": 3
   },
   "file_extension": ".py",
   "mimetype": "text/x-python",
   "name": "python",
   "nbconvert_exporter": "python",
   "pygments_lexer": "ipython3",
   "version": "3.9.13"
  }
 },
 "nbformat": 4,
 "nbformat_minor": 5
}
