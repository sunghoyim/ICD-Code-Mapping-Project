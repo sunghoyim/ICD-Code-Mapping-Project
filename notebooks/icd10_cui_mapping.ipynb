{
 "cells": [
  {
   "cell_type": "markdown",
   "id": "d20b4e53",
   "metadata": {},
   "source": [
    "# ICD-10 and CUI\n",
    "\n",
    "### 2023-06-29"
   ]
  },
  {
   "cell_type": "markdown",
   "id": "a84f69f9",
   "metadata": {},
   "source": [
    "ICD-10 codes downloaded from https://www.cms.gov/medicare/coordination-benefits-recovery-overview/icd-code-lists"
   ]
  },
  {
   "cell_type": "code",
   "execution_count": null,
   "id": "9588c32f",
   "metadata": {},
   "outputs": [],
   "source": [
    "# import data\n",
    "import pandas as pd\n",
    "\n",
    "# Read the Excel file\n",
    "excel_file = r'C:\\Users\\sungh\\icd10.xlsx'\n",
    "icd10 = pd.read_excel(excel_file)\n",
    "\n",
    "# Convert to CSV\n",
    "icd10file = r'C:\\Users\\sungh\\icd10.csv'\n",
    "icd10.to_csv(icd10file, index=False)"
   ]
  },
  {
   "cell_type": "code",
   "execution_count": null,
   "id": "fe28e286",
   "metadata": {},
   "outputs": [],
   "source": [
    "# Specify the new column names\n",
    "new_column_names = {'CODE': 'ICD10', 'SHORT DESCRIPTION (VALID ICD-10 FY2023)': \n",
    "                    'Description'}\n",
    "\n",
    "# Rename the columns in the DataFrame\n",
    "icd10.rename(columns=new_column_names, inplace=True)"
   ]
  },
  {
   "cell_type": "markdown",
   "id": "29e47c25",
   "metadata": {},
   "source": [
    "#### Drop unnecessary columns:"
   ]
  },
  {
   "cell_type": "code",
   "execution_count": null,
   "id": "721a769d",
   "metadata": {},
   "outputs": [],
   "source": [
    "# Specify the columns to keep\n",
    "columns_to_keep = ['ICD10', 'Description']\n",
    "\n",
    "# Create a new DataFrame with only the desired columns\n",
    "icd10_updated = icd10[columns_to_keep]\n",
    "\n",
    "# Print the modified DataFrame\n",
    "print(icd10_updated.head(11))"
   ]
  },
  {
   "cell_type": "markdown",
   "id": "f4c7a84b",
   "metadata": {},
   "source": [
    "### Number of ICD-10-CM Codes: "
   ]
  },
  {
   "cell_type": "code",
   "execution_count": null,
   "id": "d56ac41e",
   "metadata": {},
   "outputs": [],
   "source": [
    "# Count the number of rows\n",
    "num_rows = len(icd10_updated)\n",
    "print(\"Number of ICD-10 Codes:\", num_rows)"
   ]
  },
  {
   "cell_type": "markdown",
   "id": "2002d69c",
   "metadata": {},
   "source": [
    "#### Add decimal places to format ICD-10-CM:"
   ]
  },
  {
   "cell_type": "code",
   "execution_count": null,
   "id": "f98160d1",
   "metadata": {},
   "outputs": [],
   "source": [
    "def add_decimal(icd_code):\n",
    "    if len(icd_code) > 3:\n",
    "        return icd_code[:3] + '.' + icd_code[3:]\n",
    "    else:\n",
    "        return icd_code\n",
    "\n",
    "# Apply the add_decimal function to the 'ICD10CM' column in dataframe\n",
    "icd10_updated['ICD10_WITH_DECIMAL'] = icd10_updated['ICD10'].apply(add_decimal)"
   ]
  },
  {
   "cell_type": "code",
   "execution_count": null,
   "id": "b5b841a0",
   "metadata": {},
   "outputs": [],
   "source": [
    "# Create a new DataFrame without 'icd10' column\n",
    "final_icd10 = icd10_updated.drop('ICD10', axis=1)\n",
    "\n",
    "# Verify new DataFrame\n",
    "print(final_icd10.head())"
   ]
  },
  {
   "cell_type": "markdown",
   "id": "f0179549",
   "metadata": {},
   "source": [
    "### From https://documentation.uts.nlm.nih.gov/scripts/crosswalk.py"
   ]
  },
  {
   "cell_type": "markdown",
   "id": "61555d57",
   "metadata": {},
   "source": [
    "### 06-27 Update: This code below works (from: https://documentation.uts.nlm.nih.gov/scripts/search-terms.py)"
   ]
  },
  {
   "cell_type": "markdown",
   "id": "9b40430e",
   "metadata": {},
   "source": [
    "### This step will process the entire data, using \"Description\" column to produce CSV file that matches CUI: \n",
    "#### (will take a while)"
   ]
  },
  {
   "cell_type": "code",
   "execution_count": null,
   "id": "9826fe72",
   "metadata": {},
   "outputs": [],
   "source": [
    "import requests\n",
    "import pandas as pd\n",
    "from math import ceil\n",
    "\n",
    "def retrieve_cui(apikey, version, icd_codes, batch_size):\n",
    "    uri = \"https://uts-ws.nlm.nih.gov\"\n",
    "    content_endpoint = \"/rest/search/\" + version\n",
    "    full_url = uri + content_endpoint\n",
    "    result_list = []\n",
    "\n",
    "    total_batches = ceil(len(icd_codes) / batch_size)\n",
    "\n",
    "    for batch in range(total_batches):\n",
    "        start_index = batch * batch_size\n",
    "        end_index = (batch + 1) * batch_size\n",
    "        batch_codes = icd_codes[start_index:end_index]\n",
    "\n",
    "        try:\n",
    "            for icd_code in batch_codes:\n",
    "                page = 0  # Reset the page counter for each ICD code\n",
    "                while True:\n",
    "                    page += 1\n",
    "                    query = {'string': icd_code, 'apiKey': apikey, 'pageNumber': page}\n",
    "                    r = requests.get(full_url, params=query)\n",
    "                    r.raise_for_status()\n",
    "                    r.encoding = 'utf-8'\n",
    "                    outputs = r.json()\n",
    "\n",
    "                    items = outputs['result']['results']\n",
    "\n",
    "                    if len(items) == 0:\n",
    "                        if page == 1:\n",
    "                            print('No results found for ICD code: ' + icd_code + '\\n')\n",
    "                            break\n",
    "                        else:\n",
    "                            break\n",
    "\n",
    "                    print(\"Results for ICD code: \" + icd_code + \", page \" + str(page) + \"\\n\")\n",
    "\n",
    "                    for result in items:\n",
    "                        cui = result['ui']\n",
    "                        print('ICD-10: ' + icd_code)\n",
    "                        print('CUI: ' + cui)\n",
    "                        print('\\n')\n",
    "\n",
    "                        result_dict = {\n",
    "                            'ICD-10': icd_code,\n",
    "                            'CUI': cui,\n",
    "                        }\n",
    "                        result_list.append(result_dict)\n",
    "\n",
    "                    print('*********')\n",
    "\n",
    "        except Exception as except_error:\n",
    "            print(except_error)\n",
    "\n",
    "    # Convert the result_list to a DataFrame\n",
    "    result_df = pd.DataFrame(result_list, columns=['ICD-10', 'CUI'])\n",
    "\n",
    "    # Save the DataFrame to a CSV file\n",
    "    result_df.to_csv('ICD10_CUI_FINAL.csv', index=False)\n",
    "    print(\"CSV file saved successfully.\")\n",
    "\n",
    "# Set UMLS API key and version\n",
    "apikey = \"49182007-9896-41a5-aae6-f2cb70d0ca5e\"\n",
    "version = \"current\"\n",
    "\n",
    "# ICD codes dataframe\n",
    "icd_codes = final_icd10['ICD10_WITH_DECIMAL']\n",
    "batch_size = 200  # Number of codes to process in each batch\n",
    "\n",
    "# Call retrieve_cui function\n",
    "retrieve_cui(apikey, version, icd_codes, batch_size)"
   ]
  }
 ],
 "metadata": {
  "kernelspec": {
   "display_name": "Python 3 (ipykernel)",
   "language": "python",
   "name": "python3"
  },
  "language_info": {
   "codemirror_mode": {
    "name": "ipython",
    "version": 3
   },
   "file_extension": ".py",
   "mimetype": "text/x-python",
   "name": "python",
   "nbconvert_exporter": "python",
   "pygments_lexer": "ipython3",
   "version": "3.9.13"
  }
 },
 "nbformat": 4,
 "nbformat_minor": 5
}
