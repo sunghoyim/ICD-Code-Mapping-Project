{
 "cells": [
  {
   "cell_type": "markdown",
   "id": "de2659f5",
   "metadata": {},
   "source": [
    "# Patient Data Analysis\n",
    "\n",
    "Analysis of 2.3 million patient records across Mayo Clinic Platform spanning 87 years (1935-2023).\n",
    "\n",
    "This notebook explores the comprehensive patient dataset to understand diagnosis coding patterns, data quality, and temporal distribution across different medical coding systems."
   ]
  },
  {
   "cell_type": "code",
   "execution_count": null,
   "id": "f4144331",
   "metadata": {},
   "outputs": [],
   "source": [
    "import pandas as pd\n",
    "import numpy as np\n",
    "import matplotlib.pyplot as plt\n",
    "import seaborn as sns\n",
    "\n",
    "# Note: This analysis uses the joined_table dataset from Mayo Clinic Platform\n",
    "# Data contains patient diagnoses across multiple coding systems"
   ]
  },
  {
   "cell_type": "markdown",
   "id": "d4cf89c5",
   "metadata": {},
   "source": [
    "## Dataset Structure Analysis\n",
    "\n",
    "First, let's examine the structure and composition of our patient dataset."
   ]
  },
  {
   "cell_type": "code",
   "execution_count": null,
   "id": "c926a77a",
   "metadata": {},
   "outputs": [],
   "source": [
    "# Column Names\n",
    "joined_table.columns"
   ]
  },
  {
   "cell_type": "markdown",
   "id": "a32a279c",
   "metadata": {},
   "source": [
    "**Dataset contains the following key variables:**\n",
    "- `NFER_PID`: Unique patient identifier\n",
    "- `DIAGNOSIS_METHOD_CODE`: Medical coding system used (ICD-10-CM, ICD-9, etc.)\n",
    "- `DIAGNOSIS_CODE`: Specific medical code\n",
    "- `DIAGNOSIS_DESCRIPTION`: Human-readable diagnosis description\n",
    "- Various timestamp fields for tracking diagnosis timeline"
   ]
  },
  {
   "cell_type": "markdown",
   "id": "e030725b",
   "metadata": {},
   "source": [
    "## Data Quality Assessment\n",
    "\n",
    "Analyzing null values to understand data completeness across variables."
   ]
  },
  {
   "cell_type": "code",
   "execution_count": null,
   "id": "0dcb07a6",
   "metadata": {},
   "outputs": [],
   "source": [
    "# Number of null values under each variable\n",
    "joined_table.isnull().sum(axis=0)"
   ]
  },
  {
   "cell_type": "code",
   "execution_count": null,
   "id": "3ecc7cfc",
   "metadata": {},
   "outputs": [],
   "source": [
    "# Descending order of null values\n",
    "joined_table_null_counts = joined_table.isnull().sum().sort_values(ascending=False)\n",
    "print(joined_table_null_counts)"
   ]
  },
  {
   "cell_type": "markdown",
   "id": "f536f893",
   "metadata": {},
   "source": [
    "**Data Quality Insights:**\n",
    "- Core diagnostic fields (NFER_PID, DIAGNOSIS_CODE, DIAGNOSIS_DESCRIPTION) have excellent completeness\n",
    "- Temporal fields like AUTO_RESOLVE_DTM and INACTIVE_DTM have high null rates (expected for active diagnoses)\n",
    "- Only 19 missing diagnosis descriptions out of 100M+ records indicates high data quality"
   ]
  },
  {
   "cell_type": "markdown",
   "id": "eb14e46c",
   "metadata": {},
   "source": [
    "## Patient Population Analysis\n",
    "\n",
    "Determining the scale of unique patients represented in the dataset."
   ]
  },
  {
   "cell_type": "code",
   "execution_count": null,
   "id": "94f6ab5d",
   "metadata": {},
   "outputs": [],
   "source": [
    "# Number of unique patients\n",
    "unique_nfer_pid = joined_table['NFER_PID'].nunique()\n",
    "print(\"The number of unique patients in the DataFrame is:\", unique_nfer_pid)"
   ]
  },
  {
   "cell_type": "markdown",
   "id": "6c9679ec",
   "metadata": {},
   "source": [
    "**Key Finding:** Dataset represents **2.26 million unique patients** - demonstrating the massive scale of healthcare data processed in this project."
   ]
  },
  {
   "cell_type": "markdown",
   "id": "b385f9f2",
   "metadata": {},
   "source": [
    "## Coding System Distribution Analysis\n",
    "\n",
    "Understanding which medical coding systems are most prevalent in the dataset."
   ]
  },
  {
   "cell_type": "code",
   "execution_count": null,
   "id": "58bb54bd",
   "metadata": {},
   "outputs": [],
   "source": [
    "# All possible values in DIAGNOSIS_METHOD_CODE column\n",
    "joined_dmc_unique_values = joined_table['DIAGNOSIS_METHOD_CODE'].unique()\n",
    "print(\"Available coding systems:\", joined_dmc_unique_values)"
   ]
  },
  {
   "cell_type": "code",
   "execution_count": null,
   "id": "aa18aa5a",
   "metadata": {},
   "outputs": [],
   "source": [
    "# Group by diagnosis method code: Number of unique patients per coding system\n",
    "count_by_code = joined_table.groupby('DIAGNOSIS_METHOD_CODE')['NFER_PID'].nunique()\n",
    "\n",
    "# Sort in descending order\n",
    "count_by_code = count_by_code.sort_values(ascending=False)\n",
    "print(\"Unique patients by coding system:\")\n",
    "print(count_by_code)"
   ]
  },
  {
   "cell_type": "code",
   "execution_count": null,
   "id": "129e0ce2",
   "metadata": {},
   "outputs": [],
   "source": [
    "# Calculate percentages for each coding system\n",
    "unique_patients_by_code = joined_table.groupby('DIAGNOSIS_METHOD_CODE')['NFER_PID'].nunique()\n",
    "\n",
    "# Calculate percentage distribution\n",
    "count_by_code_percentage = (unique_patients_by_code / unique_patients_by_code.sum()) * 100\n",
    "\n",
    "# Round and sort results\n",
    "count_by_code_percentage_rounded = count_by_code_percentage.round(1)\n",
    "count_by_code_percentage_sorted = count_by_code_percentage_rounded.sort_values(ascending=False)\n",
    "\n",
    "print(\"Coding system distribution (% of unique patients):\")\n",
    "print(count_by_code_percentage_sorted)"
   ]
  },
  {
   "cell_type": "markdown",
   "id": "972e071d",
   "metadata": {},
   "source": [
    "**Coding System Insights:**\n",
    "- **ICD-10-CM dominates** with 40.4% of patients (1.96M patients)\n",
    "- **Legacy systems remain significant**: ICD-9 (16.8%) and ICD-9-CM (15.3%) \n",
    "- **Multiple coding standards** reflect real-world healthcare complexity\n",
    "- **SNOMED CT** represents 4.7% of patients (230K patients)\n",
    "\n",
    "This distribution validates the need for cross-system mapping capabilities."
   ]
  },
  {
   "cell_type": "markdown",
   "id": "f9d42a4b",
   "metadata": {},
   "source": [
    "## Sample Diagnosis Codes\n",
    "\n",
    "Examining actual diagnosis codes to understand data structure."
   ]
  },
  {
   "cell_type": "code",
   "execution_count": null,
   "id": "f26d7235",
   "metadata": {},
   "outputs": [],
   "source": [
    "# Examples of ICD-10-CM diagnosis codes\n",
    "icd10cm_examples = joined_table[joined_table['DIAGNOSIS_METHOD_CODE'] == 'ICD-10-CM']['DIAGNOSIS_CODE'].head(10)\n",
    "print(\"Sample ICD-10-CM codes:\")\n",
    "print(icd10cm_examples)"
   ]
  },
  {
   "cell_type": "markdown",
   "id": "f1801fc6",
   "metadata": {},
   "source": [
    "## Temporal Data Analysis\n",
    "\n",
    "Understanding the historical span of patient data across the 87-year period."
   ]
  },
  {
   "cell_type": "code",
   "execution_count": null,
   "id": "a8d8d4e5",
   "metadata": {},
   "outputs": [],
   "source": [
    "# Convert Unix timestamps to datetime format\n",
    "joined_table['DIAGNOSIS_DTM'] = pd.to_datetime(joined_table['DIAGNOSIS_DTM'], unit='s')\n",
    "\n",
    "# Extract timestamp analysis\n",
    "timestamp_values_diagnosis = joined_table['DIAGNOSIS_DTM']\n",
    "\n",
    "# Calculate min and max dates\n",
    "min_date_diagnosis = timestamp_values_diagnosis.min()\n",
    "max_date_diagnosis = timestamp_values_diagnosis.max()\n",
    "\n",
    "print(\"Minimum date:\", min_date_diagnosis) \n",
    "print(\"Maximum date:\", max_date_diagnosis)\n",
    "\n",
    "# Calculate range in years\n",
    "date_range_years_diagnosis = (max_date_diagnosis - min_date_diagnosis).days / 365\n",
    "print(f\"Data spans approximately {date_range_years_diagnosis:.1f} years\")"
   ]
  },
  {
   "cell_type": "markdown",
   "id": "41386335",
   "metadata": {},
   "source": [
    "## Key Findings Summary\n",
    "\n",
    "**Dataset Scale & Quality:**\n",
    "- **2.26 million unique patients** across 87 years (1937-2022)\n",
    "- **Excellent data completeness** with <0.1% missing core diagnostic information\n",
    "- **Multiple coding systems** reflecting healthcare evolution over decades\n",
    "\n",
    "**Coding System Distribution:**\n",
    "- **Modern standards dominate**: ICD-10-CM (40.4% of patients)\n",
    "- **Legacy system significance**: Combined ICD-9 variants represent 32.1% of patients  \n",
    "- **Specialized terminologies**: SNOMED CT covers 230K+ patients\n",
    "\n",
    "**Clinical Research Impact:**\n",
    "This comprehensive dataset enables robust patient cohort identification across the full spectrum of medical coding standards, supporting both historical analysis and contemporary research needs."
   ]
  }
 ],
 "metadata": {
  "kernelspec": {
   "display_name": "Python 3 (ipykernel)",
   "language": "python",
   "name": "python3"
  },
  "language_info": {
   "codemirror_mode": {
    "name": "ipython",
    "version": 3
   },
   "file_extension": ".py",
   "mimetype": "text/x-python",
   "name": "python",
   "nbconvert_exporter": "python",
   "pygments_lexer": "ipython3",
   "version": "3.9.13"
  }
 },
 "nbformat": 4,
 "nbformat_minor": 5
}
