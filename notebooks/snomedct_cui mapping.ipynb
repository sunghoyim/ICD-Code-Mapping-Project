{
 "cells": [
  {
   "cell_type": "markdown",
   "id": "d20b4e53",
   "metadata": {},
   "source": [
    "# SNOMED to CUI\n",
    "\n",
    "### 2023-07-06"
   ]
  },
  {
   "cell_type": "markdown",
   "id": "a84f69f9",
   "metadata": {},
   "source": [
    "SNOMED codes downloaded from UMLS."
   ]
  },
  {
   "cell_type": "code",
   "execution_count": null,
   "id": "4d1b0a0a",
   "metadata": {},
   "outputs": [],
   "source": [
    "# import data\n",
    "import pandas as pd\n",
    "snomed = pd.read_csv(\"SNOMED.csv\")"
   ]
  },
  {
   "cell_type": "markdown",
   "id": "29e47c25",
   "metadata": {},
   "source": [
    "#### Drop unnecessary columns:"
   ]
  },
  {
   "cell_type": "code",
   "execution_count": null,
   "id": "721a769d",
   "metadata": {},
   "outputs": [],
   "source": [
    "# Specify the columns to keep\n",
    "column_to_keep = ['id']\n",
    "\n",
    "# Create a new DataFrame with only the desired columns\n",
    "snomed_updated = snomed[column_to_keep]\n",
    "\n",
    "# Print the modified DataFrame\n",
    "print(snomed_updated.head(11))"
   ]
  },
  {
   "cell_type": "markdown",
   "id": "f4c7a84b",
   "metadata": {},
   "source": [
    "### Number of SNOMED: "
   ]
  },
  {
   "cell_type": "code",
   "execution_count": null,
   "id": "d56ac41e",
   "metadata": {},
   "outputs": [],
   "source": [
    "# Count the number of rows\n",
    "num_rows = len(snomed_updated)\n",
    "print(\"Number of SNOMED:\", num_rows)"
   ]
  },
  {
   "cell_type": "markdown",
   "id": "f0179549",
   "metadata": {},
   "source": [
    "### From https://documentation.uts.nlm.nih.gov/scripts/crosswalk.py"
   ]
  },
  {
   "cell_type": "markdown",
   "id": "61555d57",
   "metadata": {},
   "source": [
    "### 06-27 Update: This code below works (from: https://documentation.uts.nlm.nih.gov/scripts/search-terms.py)"
   ]
  },
  {
   "cell_type": "markdown",
   "id": "9b40430e",
   "metadata": {},
   "source": [
    "### This step will process the entire data, using \"Description\" column to produce CSV file that matches CUI: \n",
    "#### (will take a while)"
   ]
  },
  {
   "cell_type": "code",
   "execution_count": null,
   "id": "9826fe72",
   "metadata": {},
   "outputs": [],
   "source": [
    "import requests\n",
    "import pandas as pd\n",
    "from math import ceil\n",
    "import csv\n",
    "\n",
    "def retrieve_cui(apikey, version, snomed_codes, batch_size):\n",
    "    uri = \"https://uts-ws.nlm.nih.gov\"\n",
    "    content_endpoint = \"/rest/search/\" + version\n",
    "    full_url = uri + content_endpoint\n",
    "    result_list = []\n",
    "\n",
    "    total_batches = ceil(len(snomed_codes) / batch_size)\n",
    "\n",
    "    for batch in range(total_batches):\n",
    "        start_index = batch * batch_size\n",
    "        end_index = (batch + 1) * batch_size\n",
    "        batch_codes = snomed_codes[start_index:end_index]\n",
    "\n",
    "        try:\n",
    "            for snomed_code in batch_codes:\n",
    "                page = 0  # Reset the page counter for each SNOMED code\n",
    "                while True:\n",
    "                    page += 1\n",
    "                    query = {'string': snomed_code, 'apiKey': apikey, 'pageNumber': page}\n",
    "                    r = requests.get(full_url, params=query)\n",
    "                    r.raise_for_status()\n",
    "                    r.encoding = 'utf-8'\n",
    "                    outputs = r.json()\n",
    "\n",
    "                    items = outputs['result']['results']\n",
    "\n",
    "                    if len(items) == 0:\n",
    "                        if page == 1:\n",
    "                            print('No results found for SNOMED code: ' + snomed_code + '\\n')\n",
    "                            break\n",
    "                        else:\n",
    "                            break\n",
    "\n",
    "                    print(\"Results for SNOMED code: \" + snomed_code + \", page \" + str(page) + \"\\n\")\n",
    "\n",
    "                    for result in items:\n",
    "                        if 'rootSource' in result:\n",
    "                            cui = result['ui']\n",
    "                            source_vocab = result['rootSource']\n",
    "                            print('SNOMED code: ' + snomed_code)\n",
    "                            print('CUI: ' + cui)\n",
    "                            print('Source Vocabulary: ' + source_vocab)\n",
    "                            print('\\n')\n",
    "\n",
    "                            result_dict = {\n",
    "                                'SNOMED Code': snomed_code,\n",
    "                                'CUI': cui,\n",
    "                                'Source Vocabulary': source_vocab\n",
    "                            }\n",
    "                            result_list.append(result_dict)\n",
    "\n",
    "                    print('*********')\n",
    "\n",
    "        except Exception as except_error:\n",
    "            print(except_error)\n",
    "\n",
    "    # Convert the result_list to a DataFrame\n",
    "    result_df = pd.DataFrame(result_list, columns=['SNOMED Code', 'CUI', 'Source Vocabulary'])\n",
    "\n",
    "    # Save the DataFrame to a CSV file\n",
    "    result_df.to_csv('SNOMED_CUI_FINAL_PART2.csv', index=False)\n",
    "    print(\"CSV file saved successfully.\")\n",
    "\n",
    "# UMLS API key and version\n",
    "apikey = \"49182007-9896-41a5-aae6-f2cb70d0ca5e\"\n",
    "version = \"current\"\n",
    "\n",
    "# Path to CSV file containing SNOMED codes\n",
    "file_path = r\"C:\\Users\\sungh\\SNOMED2.csv\"\n",
    "with open(file_path, 'r') as file:\n",
    "    reader = csv.reader(file)\n",
    "    snomed_codes = [row[0] for row in reader]\n",
    "\n",
    "batch_size = 200  # Number of codes to process in each batch\n",
    "\n",
    "# Call retrieve_cui function\n",
    "retrieve_cui(apikey, version, snomed_codes, batch_size)"
   ]
  },
  {
   "cell_type": "code",
   "execution_count": null,
   "id": "a4e2a317",
   "metadata": {},
   "outputs": [],
   "source": []
  }
 ],
 "metadata": {
  "kernelspec": {
   "display_name": "Python 3 (ipykernel)",
   "language": "python",
   "name": "python3"
  },
  "language_info": {
   "codemirror_mode": {
    "name": "ipython",
    "version": 3
   },
   "file_extension": ".py",
   "mimetype": "text/x-python",
   "name": "python",
   "nbconvert_exporter": "python",
   "pygments_lexer": "ipython3",
   "version": "3.9.13"
  }
 },
 "nbformat": 4,
 "nbformat_minor": 5
}
